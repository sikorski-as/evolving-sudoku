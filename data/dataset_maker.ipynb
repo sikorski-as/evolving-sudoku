{
 "cells": [
  {
   "cell_type": "markdown",
   "metadata": {},
   "source": [
    "# Stworzenie instancji testowych łamigłówki sudoku"
   ]
  },
  {
   "cell_type": "markdown",
   "metadata": {},
   "source": [
    "## Załadowanie danych z kaggle'a\n",
    "Plik z 3 milionami wygenerowanych łamigłówek można pobrać [stąd](https://www.kaggle.com/radcliffe/3-million-sudoku-puzzles-with-ratings)."
   ]
  },
  {
   "cell_type": "code",
   "execution_count": null,
   "metadata": {},
   "outputs": [],
   "source": [
    "import pandas as pd\n",
    "import matplotlib.pyplot as plt\n",
    "from pprint import pprint\n",
    "import json"
   ]
  },
  {
   "cell_type": "markdown",
   "metadata": {},
   "source": [
    "Ładujemy dane. Brak cyfry w przykładowym problemie chcemy oznaczać zerem, więc zamieniamy od razu kropki na zera."
   ]
  },
  {
   "cell_type": "code",
   "execution_count": null,
   "metadata": {},
   "outputs": [],
   "source": [
    "raw_df = pd.read_csv('sudoku-3m.csv', dtype={'puzzle': str, 'solution': str})\n",
    "\n",
    "replace_with_zeroes = lambda puzzle: puzzle.replace('.', '0')\n",
    "raw_df['puzzle'] = raw_df['puzzle'].apply(replace_with_zeroes)\n",
    "\n",
    "raw_df.head()"
   ]
  },
  {
   "cell_type": "code",
   "execution_count": null,
   "metadata": {},
   "outputs": [],
   "source": [
    "raw_df.describe()"
   ]
  },
  {
   "cell_type": "markdown",
   "metadata": {},
   "source": [
    "Rozkład liczby wskazówek i trudności łamigłówek"
   ]
  },
  {
   "cell_type": "code",
   "execution_count": null,
   "metadata": {},
   "outputs": [],
   "source": [
    "%matplotlib inline\n",
    "raw_df[['difficulty', 'clues']].hist()"
   ]
  },
  {
   "cell_type": "markdown",
   "metadata": {},
   "source": [
    "## Przygotowanie zbiorów o 3 poziomach trudności"
   ]
  },
  {
   "cell_type": "markdown",
   "metadata": {},
   "source": [
    "Ustawienia"
   ]
  },
  {
   "cell_type": "code",
   "execution_count": null,
   "metadata": {},
   "outputs": [],
   "source": [
    "# ile chcemy instancji z każdego poziomu trudności\n",
    "limit_per_difficulty_level = 50  \n",
    "\n",
    "# zakresy kolumny 'difficulty' dla każdego poziomu trudności\n",
    "difficulty_ranges = {  \n",
    "    'easy': (0, 3),\n",
    "    'medium': (3, 6),\n",
    "    'hard': (6, 9)\n",
    "}\n",
    "\n",
    "# sposób, w jaki wybieramy łamigłówki w każdym worku z danym poziomie trudności\n",
    "# bottom - wybieramy pierwsze N z danego poziomu trudności (czyli najłatwiejsze z danego poziomu trudności)\n",
    "# top - wybieramy ostatnie N z danego poziomu trudności (czyli najtrudniejsze z danego poziomu trudności)\n",
    "# uniform - wybieramy N instancji z danego poziomu trudności równomiernie (dostaniemy trochę łatwiejszych i trochę trudniejszych)\n",
    "selection_type = {\n",
    "    'easy': 'top',\n",
    "    'medium': 'top',\n",
    "    'hard': 'top'\n",
    "}"
   ]
  },
  {
   "cell_type": "code",
   "execution_count": null,
   "metadata": {
    "scrolled": true
   },
   "outputs": [],
   "source": [
    "raw_df.sort_values(['difficulty', 'clues'], ascending=[True, False])"
   ]
  },
  {
   "cell_type": "markdown",
   "metadata": {},
   "source": [
    "Dzielenie na zbiory wg poziomu trudności (pokaże nam się ile instancji wpadło do jakiego poziomu trudności):"
   ]
  },
  {
   "cell_type": "code",
   "execution_count": null,
   "metadata": {},
   "outputs": [],
   "source": [
    "intances_by_difficulty = {\n",
    "    difficulty_name: raw_df.loc[(raw_df['difficulty'] >= left) & (raw_df['difficulty'] < right)].sort_values(['difficulty', 'clues'], ascending=[True, False])\n",
    "    for (difficulty_name, (left, right)) in difficulty_ranges.items()\n",
    "}\n",
    "ninstances_by_difficulty = {diff_level: rows.shape[0] for diff_level, rows in intances_by_difficulty.items()}\n",
    "print(ninstances_by_difficulty)"
   ]
  },
  {
   "cell_type": "markdown",
   "metadata": {},
   "source": [
    "Teraz wybieramy tylko tyle ile nas interesuje z wybraną metodą (bottom/top/uniform) i dodatkowo zamieniamy stringi z instancjami na obiekty 2D."
   ]
  },
  {
   "cell_type": "code",
   "execution_count": null,
   "metadata": {},
   "outputs": [],
   "source": [
    "limited_instances = {}\n",
    "for difficulty_name, instances in intances_by_difficulty.items():\n",
    "    sampling_method = selection_type[difficulty_name]\n",
    "    if sampling_method == 'bottom':\n",
    "        limited_instances[difficulty_name] = intances_by_difficulty[difficulty_name].head(limit_per_difficulty_level)\n",
    "    elif sampling_method == 'top':\n",
    "        limited_instances[difficulty_name] = intances_by_difficulty[difficulty_name].tail(limit_per_difficulty_level)\n",
    "    elif sampling_method == 'uniform':\n",
    "        indices = [i * ninstances_by_difficulty[difficulty_name] // limit_per_difficulty_level for i in range(limit_per_difficulty_level)]\n",
    "        limited_instances[difficulty_name] = intances_by_difficulty[difficulty_name].iloc(indices)\n",
    "        \n",
    "    # zamiana stringów na tablicę 2D\n",
    "    to_2d_array = lambda puzzle: [list(map(int, puzzle[i:i+9])) for i in range(0, len(puzzle), 9)]\n",
    "    limited_instances[difficulty_name].loc[:, 'puzzle'] = limited_instances[difficulty_name].loc[:, 'puzzle'].apply(to_2d_array)\n",
    "    limited_instances[difficulty_name].loc[:, 'solution'] = limited_instances[difficulty_name].loc[:, 'solution'].apply(to_2d_array)"
   ]
  },
  {
   "cell_type": "markdown",
   "metadata": {},
   "source": [
    "Inspekcja wybranych instancji:"
   ]
  },
  {
   "cell_type": "code",
   "execution_count": null,
   "metadata": {},
   "outputs": [],
   "source": [
    "pprint({diff_level: rows.shape[0] for diff_level, rows in limited_instances.items()})\n",
    "\n",
    "for difficulty_name, instances in limited_instances.items():\n",
    "    print()\n",
    "    print(difficulty_name)\n",
    "    print(instances[['puzzle', 'difficulty', 'clues']])"
   ]
  },
  {
   "cell_type": "markdown",
   "metadata": {},
   "source": [
    "## Stworzenie pliku json z instancjami"
   ]
  },
  {
   "cell_type": "markdown",
   "metadata": {},
   "source": [
    "Tworzymy potężnego dicta z pandasowych dataframe'ów i zapisujemy go do pliku."
   ]
  },
  {
   "cell_type": "code",
   "execution_count": null,
   "metadata": {},
   "outputs": [],
   "source": [
    "limited_instances = {\n",
    "    difficulty_name: instances.to_dict('records') for difficulty_name, instances in limited_instances.items()\n",
    "}\n",
    "\n",
    "with open('instances.json', 'w') as file:\n",
    "    json.dump(limited_instances, file)"
   ]
  }
 ],
 "metadata": {
  "kernelspec": {
   "display_name": "Python 3",
   "language": "python",
   "name": "python3"
  },
  "language_info": {
   "codemirror_mode": {
    "name": "ipython",
    "version": 3
   },
   "file_extension": ".py",
   "mimetype": "text/x-python",
   "name": "python",
   "nbconvert_exporter": "python",
   "pygments_lexer": "ipython3",
   "version": "3.7.1"
  }
 },
 "nbformat": 4,
 "nbformat_minor": 2
}
